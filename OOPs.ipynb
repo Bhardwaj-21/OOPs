{
  "nbformat": 4,
  "nbformat_minor": 0,
  "metadata": {
    "colab": {
      "provenance": []
    },
    "kernelspec": {
      "name": "python3",
      "display_name": "Python 3"
    },
    "language_info": {
      "name": "python"
    }
  },
  "cells": [
    {
      "cell_type": "markdown",
      "source": [
        "Python OOPs Questions\n",
        "\n",
        "1. What is Object-Oriented Programming (OOP)?\n",
        "\n",
        "  -> Object-Oriented Programming (OOP) is a programming style based on objects that combine data and functions. It uses key principles like:\n",
        "\n",
        "  . Class: Template for creating objects.\n",
        "\n",
        "  . Object: Instance of a class.\n",
        "  \n",
        "  . Encapsulation: Hides internal details.\n",
        "  \n",
        "  . Inheritance: Reuses code from other classes.\n",
        "  \n",
        "  . Polymorphism: Allows different behaviors with the same interface.\n",
        "\n",
        "\n",
        "2.  What is a class in OOP?\n",
        "\n",
        "  -> A class in OOP is a blueprint for creating objects. It defines the attributes (data) and methods (functions) that the objects will have.\n",
        "\n",
        "3. What is an object in OOP?\n",
        "\n",
        "  -> An object in OOP is an instance of a class. It holds actual data and can perform actions defined by its class.\n",
        "\n",
        "4. What is the difference between abstraction and encapsulation?\n",
        "\n",
        "  -> Abstraction hides complexity by showing only essential features.\n",
        "\n",
        "    . Abstraction = Hiding what is done.\n",
        "\n",
        "  -> Encapsulation hides internal details by bundling data and methods together.\n",
        "\n",
        "  . Encapsulation = Hiding how it is done.\n",
        "\n",
        "5. What are dunder methods in Python?\n",
        "\n",
        "  -> Dunder methods (short for \"double underscore\" methods) in Python are special methods with names like __init__, __str__, __len__, etc.\n",
        "\n",
        "  -> They let you define how objects behave with built-in operations, like:\n",
        "\n",
        "  . __init__: Constructor (obj = MyClass())\n",
        "  \n",
        "  . __str__: String representation (print(obj))\n",
        "  \n",
        "  . __add__: Defines + behavior (obj1 + obj2)\n",
        "\n",
        "  -> They’re also called magic methods.\n",
        "\n",
        "6. Explain the concept of inheritance in OOP?\n",
        "\n",
        "  -> Inheritance in OOP allows a class (child/subclass) to inherit properties and methods from another class (parent/superclass).\n",
        "\n",
        "  -> Promotes code reuse\n",
        "  \n",
        "  -> Enables hierarchical relationships\n",
        "\n",
        "7. What is polymorphism in OOP?\n",
        "\n",
        "  -> Polymorphism in OOP means one interface, many implementations.\n",
        "  \n",
        "  -> It allows different classes to use the same method name but behave differently.\n",
        "\n",
        "8. How is encapsulation achieved in Python?\n",
        "\n",
        "  -> Encapsulation in Python is achieved using:\n",
        "\n",
        "  . Classes: To bundle data and methods.\n",
        "  \n",
        "  . Access modifiers (by naming convention):\n",
        "  \n",
        "  . public: Accessible anywhere (e.g., name)\n",
        "  \n",
        "  . _protected: Meant for internal use (e.g., _name)\n",
        "  \n",
        "  . __private: Name mangled to restrict access (e.g., __name)\n",
        "\n",
        "9. What is a constructor in Python?\n",
        "\n",
        "  -> A constructor in Python is a special method called __init__.\n",
        "\n",
        "  -> It initializes an object when it's created.\n",
        "\n",
        "10. What are class and static methods in Python?\n",
        "\n",
        "  -> n Python:\n",
        "\n",
        "  - Class Method\n",
        "  \n",
        "  . Defined with @classmethod\n",
        "  \n",
        "  . Takes cls as the first argument\n",
        "  \n",
        "  . Can access/modify class-level data\n",
        "\n",
        "  - Static Method\n",
        "  \n",
        "  . Defined with @staticmethod\n",
        "  \n",
        "  . Takes no self or cls\n",
        "  \n",
        "  . Acts like a regular function, but inside the class\n",
        "\n",
        "11. What is method overloading in Python?\n",
        "\n",
        "  -> Method overloading means having multiple methods with the same name but different parameters.\n",
        "\n",
        "  - In Python:\n",
        "  \n",
        "  . Python doesn't support true method overloading.\n",
        "  \n",
        "  . You can mimic it using default arguments or *args/**kwargs.\n",
        "\n",
        "12. What is method overriding in OOP?\n",
        "\n",
        "  -> Method overriding in OOP means a child class redefines a method from its parent class with the same name and parameters.\n",
        "\n",
        "  - Purpose:\n",
        "  \n",
        "  . To provide a specific implementation in the subclass.\n",
        "\n",
        "13. What is a property decorator in Python?\n",
        "\n",
        "  -> The @property decorator in Python lets you define a method as a read-only attribute.\n",
        "\n",
        "  - Use:\n",
        "\n",
        "  . To access a method like an attribute\n",
        "  \n",
        "  . Useful for getter functionality\n",
        "\n",
        "14. Why is polymorphism important in OOP?\n",
        "\n",
        "  -> Polymorphism is important in OOP because it:\n",
        "\n",
        "  ->Simplifies code by using a common interface\n",
        "  \n",
        "  ->Enhances flexibility and scalability\n",
        "\n",
        "  ->Supports code reuse and clean design\n",
        "\n",
        "15. What is an abstract class in Python?\n",
        "\n",
        "  -> An abstract class in Python is a class that cannot be instantiated and is meant to be inherited.\n",
        "\n",
        "  -> It can define abstract methods (methods with no implementation).\n",
        "\n",
        "  -> Use the abc module and @abstractmethod decorator.\n",
        "\n",
        "16. What are the advantages of OOP?\n",
        "\n",
        "  -> Advantages of OOP:\n",
        "\n",
        "  - Modularity – Code is organized into classes and objects.\n",
        "\n",
        "  - Reusability – Inheritance allows reuse of existing code.\n",
        "\n",
        "  - Maintainability – Easier to update and fix code.\n",
        "\n",
        "  - Scalability – Easy to grow and extend programs.\n",
        "  \n",
        "  - Abstraction – Hides complexity and shows only essentials.\n",
        "\n",
        "  - Encapsulation – Protects data from unintended access.\n",
        "\n",
        "  - Polymorphism – Simplifies code with a common interface.\n",
        "\n",
        "17. What is the difference between a class variable and an instance variable?\n",
        "\n",
        "  -> Class Variable\n",
        "\n",
        "  - Shared by all objects of the class\n",
        "  \n",
        "  - Defined inside the class, but outside methods\n",
        "\n",
        "  -> Instance Variable\n",
        "\n",
        "  - Unique to each object\n",
        "  \n",
        "  - Defined using self inside methods\n",
        "\n",
        "18. What is multiple inheritance in Python?\n",
        "\n",
        "  -> Multiple inheritance in Python means a class can inherit from more than one parent class.\n",
        "\n",
        "  -> Combines features from multiple classes\n",
        "\n",
        "  -> Python uses MRO (Method Resolution Order) to decide which method runs if there's a conflict.\n",
        "\n",
        "19. Explain the purpose of ‘’__str__’ and ‘__repr__’ ‘ methods in Python\n",
        "\n",
        "  -> __str__\n",
        "\n",
        "  - For readable display (used by print())\n",
        "  \n",
        "  - Meant for end users\n",
        "\n",
        "  -> __repr__\n",
        "  \n",
        "  - For unambiguous representation (used in debugging, or repr())\n",
        "  \n",
        "  - Meant for developers\n",
        "\n",
        "20. What is the significance of the ‘super()’ function in Python\n",
        "\n",
        "  -> The super() function in Python is used to call methods from a parent class.\n",
        "\n",
        "  -> Allows access to inherited methods\n",
        "  \n",
        "  -> Helps in method overriding\n",
        "  \n",
        "  -> Supports multiple inheritance correctly via MRO\n",
        "\n",
        "21. What is the significance of the __del__ method in Python?\n",
        "\n",
        "  -> The __del__ method in Python is a destructor.\n",
        "\n",
        "  -> Called automatically when an object is deleted or goes out of scope.\n",
        "\n",
        "  -> Used to clean up resources (like files or connections).\n",
        "\n",
        "22. What is the difference between @staticmethod and @classmethod in Python?\n",
        "\n",
        "  -> @staticmethod\n",
        "  \n",
        "  - First parameter\t- None\n",
        "  \n",
        "  - Access to class\t- No\n",
        "  \n",
        "  - Use case\t- Utility functions\n",
        "\n",
        "  - Inheritance -\tNot aware of subclass\n",
        "\n",
        "  -> @classmethod\n",
        "\n",
        "  - First parameter - cls\n",
        "\n",
        "  - Access to class - Yes\n",
        "\n",
        "  - Use case - Factory methods / class level logic\n",
        "\n",
        "  - Inheritance - Works well with inheritence\n",
        "\n",
        "\n",
        "23.  How does polymorphism work in Python with inheritance?\n",
        "\n",
        "  -> In Python, polymorphism with inheritance allows child classes to override methods from a parent class, and you can call these methods using a common interface.\n",
        "\n",
        "  -> A base class defines a method.\n",
        "\n",
        "  -> Subclasses override that method.\n",
        "\n",
        "  -> You can call the method on objects of different subclasses, and each will behave differently\n",
        "\n",
        "24. What is method chaining in Python OOP\n",
        "\n",
        "  -> Method chaining in Python OOP is calling multiple methods on the same object in a single line, one after another.\n",
        "\n",
        "  -> Each method returns self, so the next method can be called on the same object.\n",
        "\n",
        "25. What is the purpose of the __call__ method in Python?\n",
        "\n",
        "  -> The __call__ method in Python allows an object to be called like a function.\n",
        "\n",
        "  -> To make an object behave like a function\n",
        "\n",
        "  -> Adds flexibility and clean syntax\n",
        "\n",
        "\n",
        "Practical Questions\n",
        "\n",
        "1. Create a parent class Animal with a method speak() that prints a generic message. Create a child class Dog that overrides the speak() method to print \"Bark!\".\n",
        "\n",
        "\n"
      ],
      "metadata": {
        "id": "_GLxA6u4hDV_"
      }
    },
    {
      "cell_type": "code",
      "source": [
        "class Animal:\n",
        "    def speak(self):\n",
        "        print(\"The animal makes a sound.\")\n",
        "\n",
        "class Dog(Animal):\n",
        "    def speak(self):\n",
        "        print(\"Bark!\")"
      ],
      "metadata": {
        "id": "9dXuTpsGm0_v"
      },
      "execution_count": 3,
      "outputs": []
    },
    {
      "cell_type": "markdown",
      "source": [
        "2. Write a program to create an abstract class Shape with a method area(). Derive classes Circle and Rectangle from it and implement the area() method in both."
      ],
      "metadata": {
        "id": "ZXvay5hXnJhQ"
      }
    },
    {
      "cell_type": "code",
      "source": [
        "from abc import ABC, abstractmethod\n",
        "import math\n",
        "\n",
        "# Abstract class\n",
        "class Shape(ABC):\n",
        "    @abstractmethod\n",
        "    def area(self):\n",
        "        pass\n",
        "\n",
        "# Derived class: Circle\n",
        "class Circle(Shape):\n",
        "    def __init__(self, radius):\n",
        "        self.radius = radius\n",
        "\n",
        "    def area(self):\n",
        "        return math.pi * self.radius ** 2\n",
        "\n",
        "# Derived class: Rectangle\n",
        "class Rectangle(Shape):\n",
        "    def __init__(self, length, width):\n",
        "        self.length = length\n",
        "        self.width = width\n",
        "\n",
        "    def area(self):\n",
        "        return self.length * self.width"
      ],
      "metadata": {
        "id": "foPTeOE-nJHe"
      },
      "execution_count": 5,
      "outputs": []
    },
    {
      "cell_type": "markdown",
      "source": [
        "3.  Implement a multi-level inheritance scenario where a class Vehicle has an attribute type. Derive a class Car and further derive a class ElectricCar that adds a battery attribute."
      ],
      "metadata": {
        "id": "vgBgtE6knmUb"
      }
    },
    {
      "cell_type": "code",
      "source": [
        "# Base class\n",
        "class Vehicle:\n",
        "    def __init__(self, type):\n",
        "        self.type = type\n",
        "\n",
        "# Derived class\n",
        "class Car(Vehicle):\n",
        "    def __init__(self, type, brand):\n",
        "        super().__init__(type)\n",
        "        self.brand = brand\n",
        "\n",
        "# Further derived class\n",
        "class ElectricCar(Car):\n",
        "    def __init__(self, type, brand, battery):\n",
        "        super().__init__(type, brand)\n",
        "        self.battery = battery\n",
        "\n",
        "    def show_info(self):\n",
        "        print(f\"Type: {self.type}\")\n",
        "        print(f\"Brand: {self.brand}\")\n",
        "        print(f\"Battery: {self.battery} kWh\")"
      ],
      "metadata": {
        "id": "1dzzFf1InsuS"
      },
      "execution_count": null,
      "outputs": []
    },
    {
      "cell_type": "markdown",
      "source": [
        "4. Demonstrate polymorphism by creating a base class Bird with a method fly(). Create two derived classes Sparrow and Penguin that override the fly() method."
      ],
      "metadata": {
        "id": "aYu7pKwnnv4s"
      }
    },
    {
      "cell_type": "code",
      "source": [
        "# Base class\n",
        "class Bird:\n",
        "    def fly(self):\n",
        "        print(\"Some birds can fly.\")\n",
        "\n",
        "# Derived class 1\n",
        "class Sparrow(Bird):\n",
        "    def fly(self):\n",
        "        print(\"Sparrow flies high in the sky.\")\n",
        "\n",
        "# Derived class 2\n",
        "class Penguin(Bird):\n",
        "    def fly(self):\n",
        "        print(\"Penguins can't fly, they swim.\")\n",
        "\n",
        "# Polymorphism in action\n",
        "def bird_flight(bird):\n",
        "    bird.fly()"
      ],
      "metadata": {
        "id": "NfLnvOEsn1By"
      },
      "execution_count": null,
      "outputs": []
    },
    {
      "cell_type": "markdown",
      "source": [
        " 5. Write a program to demonstrate encapsulation by creating a class BankAccount with private attributes balance and methods to deposit, withdraw, and check balance."
      ],
      "metadata": {
        "id": "JPtfus0Vn6qs"
      }
    },
    {
      "cell_type": "code",
      "source": [
        "class BankAccount:\n",
        "    def __init__(self, initial_balance=0):\n",
        "        self.__balance = initial_balance  # Private attribute\n",
        "\n",
        "    def deposit(self, amount):\n",
        "        if amount > 0:\n",
        "            self.__balance += amount\n",
        "            print(f\"Deposited: ${amount}\")\n",
        "        else:\n",
        "            print(\"Deposit amount must be positive.\")\n",
        "\n",
        "    def withdraw(self, amount):\n",
        "        if 0 < amount <= self.__balance:\n",
        "            self.__balance -= amount\n",
        "            print(f\"Withdrew: ${amount}\")\n",
        "        else:\n",
        "            print(\"Insufficient balance or invalid amount.\")\n",
        "\n",
        "    def check_balance(self):\n",
        "        print(f\"Current Balance: ${self.__balance}\")"
      ],
      "metadata": {
        "id": "2QdHZjuNn_Jv"
      },
      "execution_count": null,
      "outputs": []
    },
    {
      "cell_type": "markdown",
      "source": [
        "6. Demonstrate runtime polymorphism using a method play() in a base class Instrument. Derive classes Guitar and Piano that implement their own version of play()."
      ],
      "metadata": {
        "id": "LN5WB_GooJ9V"
      }
    },
    {
      "cell_type": "code",
      "source": [
        "# Base class\n",
        "class Instrument:\n",
        "    def play(self):\n",
        "        print(\"Playing an instrument.\")\n",
        "\n",
        "# Derived class: Guitar\n",
        "class Guitar(Instrument):\n",
        "    def play(self):\n",
        "        print(\"Strumming the guitar.\")\n",
        "\n",
        "# Derived class: Piano\n",
        "class Piano(Instrument):\n",
        "    def play(self):\n",
        "        print(\"Playing the piano.\")\n",
        "\n",
        "# Function demonstrating runtime polymorphism\n",
        "def perform(instrument: Instrument):\n",
        "    instrument.play()"
      ],
      "metadata": {
        "id": "GCwO7qGGoUZn"
      },
      "execution_count": 6,
      "outputs": []
    },
    {
      "cell_type": "markdown",
      "source": [
        "7. Create a class MathOperations with a class method add_numbers() to add two numbers and a static method subtract_numbers() to subtract two numbers."
      ],
      "metadata": {
        "id": "eH4NexKloXIU"
      }
    },
    {
      "cell_type": "code",
      "source": [
        "class MathOperations:\n",
        "    @classmethod\n",
        "    def add_numbers(cls, a, b):\n",
        "        return a + b\n",
        "\n",
        "    @staticmethod\n",
        "    def subtract_numbers(a, b):\n",
        "        return a - b"
      ],
      "metadata": {
        "id": "AaTjjzQAonZI"
      },
      "execution_count": null,
      "outputs": []
    },
    {
      "cell_type": "markdown",
      "source": [
        "8.  Implement a class Person with a class method to count the total number of persons created."
      ],
      "metadata": {
        "id": "rqucFdHhor3Y"
      }
    },
    {
      "cell_type": "code",
      "source": [
        "class MathOperations:\n",
        "    @classmethod\n",
        "    def add_numbers(cls, a, b):\n",
        "        return a + b\n",
        "\n",
        "    @staticmethod\n",
        "    def subtract_numbers(a, b):\n",
        "        return a - b"
      ],
      "metadata": {
        "id": "6hg6_yFvou_C"
      },
      "execution_count": null,
      "outputs": []
    },
    {
      "cell_type": "markdown",
      "source": [
        "9. Write a class Fraction with attributes numerator and denominator. Override the str method to display the fraction as \"numerator/denominator\"."
      ],
      "metadata": {
        "id": "7XPq3evAowx8"
      }
    },
    {
      "cell_type": "code",
      "source": [
        "class Fraction:\n",
        "    def __init__(self, numerator, denominator):\n",
        "        self.numerator = numerator\n",
        "        self.denominator = denominator\n",
        "\n",
        "    def __str__(self):\n",
        "        return f\"{self.numerator}/{self.denominator}\""
      ],
      "metadata": {
        "id": "ds7qiPCvo0Pw"
      },
      "execution_count": null,
      "outputs": []
    },
    {
      "cell_type": "markdown",
      "source": [
        "10.  Demonstrate operator overloading by creating a class Vector and overriding the add method to add two vectors."
      ],
      "metadata": {
        "id": "PVXu4hhmo4H8"
      }
    },
    {
      "cell_type": "code",
      "source": [
        "class Vector:\n",
        "    def __init__(self, x, y):\n",
        "        self.x = x\n",
        "        self.y = y\n",
        "\n",
        "    # Overload the + operator\n",
        "    def __add__(self, other):\n",
        "        return Vector(self.x + other.x, self.y + other.y)\n",
        "\n",
        "    def __str__(self):\n",
        "        return f\"Vector({self.x}, {self.y})\""
      ],
      "metadata": {
        "id": "nFcZ-JP0o7EM"
      },
      "execution_count": null,
      "outputs": []
    },
    {
      "cell_type": "markdown",
      "source": [
        "11. Create a class Person with attributes name and age. Add a method greet() that prints \"Hello, my name is {name} and I am {age} years old."
      ],
      "metadata": {
        "id": "B2HeJPc0pCdJ"
      }
    },
    {
      "cell_type": "code",
      "source": [
        "class Person:\n",
        "    def __init__(self, name, age):\n",
        "        self.name = name\n",
        "        self.age = age\n",
        "\n",
        "    def greet(self):\n",
        "        print(f\"Hello, my name is {self.name} and I am {self.age} years old.\")"
      ],
      "metadata": {
        "id": "gjOzUoUXpG_d"
      },
      "execution_count": null,
      "outputs": []
    },
    {
      "cell_type": "markdown",
      "source": [
        "12.  Implement a class Student with attributes name and grades. Create a method average_grade() to compute the average of the grades."
      ],
      "metadata": {
        "id": "F1sP8SrApMQg"
      }
    },
    {
      "cell_type": "code",
      "source": [
        "class Student:\n",
        "    def __init__(self, name, grades):\n",
        "        self.name = name\n",
        "        self.grades = grades  # List of grades\n",
        "\n",
        "    def average_grade(self):\n",
        "        if not self.grades:\n",
        "            return 0\n",
        "        return sum(self.grades) / len(self.grades)"
      ],
      "metadata": {
        "id": "s4lvcOHFpPf_"
      },
      "execution_count": null,
      "outputs": []
    },
    {
      "cell_type": "markdown",
      "source": [
        "13. Create a class Rectangle with methods set_dimensions() to set the dimensions and area() to calculate the area."
      ],
      "metadata": {
        "id": "kyYjXAZVpU1d"
      }
    },
    {
      "cell_type": "code",
      "source": [
        "class Rectangle:\n",
        "    def __init__(self):\n",
        "        self.length = 0\n",
        "        self.width = 0\n",
        "\n",
        "    def set_dimensions(self, length, width):\n",
        "        self.length = length\n",
        "        self.width = width\n",
        "\n",
        "    def area(self):\n",
        "        return self.length * self.width"
      ],
      "metadata": {
        "id": "Y7TBRKmYpYq9"
      },
      "execution_count": null,
      "outputs": []
    },
    {
      "cell_type": "markdown",
      "source": [
        "14. Create a class Employee with a method calculate_salary() that computes the salary based on hours worked and hourly rate. Create a derived class Manager that adds a bonus to the salary."
      ],
      "metadata": {
        "id": "zeRvmwA2pdWv"
      }
    },
    {
      "cell_type": "code",
      "source": [
        "# Base class\n",
        "class Employee:\n",
        "    def __init__(self, hours_worked, hourly_rate):\n",
        "        self.hours_worked = hours_worked\n",
        "        self.hourly_rate = hourly_rate\n",
        "\n",
        "    def calculate_salary(self):\n",
        "        return self.hours_worked * self.hourly_rate\n",
        "\n",
        "# Derived class\n",
        "class Manager(Employee):\n",
        "    def __init__(self, hours_worked, hourly_rate, bonus):\n",
        "        super().__init__(hours_worked, hourly_rate)\n",
        "        self.bonus = bonus\n",
        "\n",
        "    def calculate_salary(self):\n",
        "        base_salary = super().calculate_salary()\n",
        "        return base_salary + self.bonus"
      ],
      "metadata": {
        "id": "bPGyuJPxpjvu"
      },
      "execution_count": null,
      "outputs": []
    },
    {
      "cell_type": "markdown",
      "source": [
        "15. Create a class Product with attributes name, price, and quantity. Implement a method total_price() that calculates the total price of the product."
      ],
      "metadata": {
        "id": "UaXboCZgpnja"
      }
    },
    {
      "cell_type": "code",
      "source": [
        "class Product:\n",
        "    def __init__(self, name, price, quantity):\n",
        "        self.name = name\n",
        "        self.price = price\n",
        "        self.quantity = quantity\n",
        "\n",
        "    def total_price(self):\n",
        "        return self.price * self.quantity"
      ],
      "metadata": {
        "id": "dhj1f8O_prKH"
      },
      "execution_count": null,
      "outputs": []
    },
    {
      "cell_type": "markdown",
      "source": [
        "16. Create a class Animal with an abstract method sound(). Create two derived classes Cow and Sheep that implement the sound() method."
      ],
      "metadata": {
        "id": "8Nwp8TZxpw5j"
      }
    },
    {
      "cell_type": "code",
      "source": [
        "# Abstract base class\n",
        "class Animal(ABC):\n",
        "    @abstractmethod\n",
        "    def sound(self):\n",
        "        pass\n",
        "\n",
        "# Derived class: Cow\n",
        "class Cow(Animal):\n",
        "    def sound(self):\n",
        "        return \"Moo\"\n",
        "\n",
        "# Derived class: Sheep\n",
        "class Sheep(Animal):\n",
        "    def sound(self):\n",
        "        return \"Baa\""
      ],
      "metadata": {
        "id": "swePMmk2p0uD"
      },
      "execution_count": null,
      "outputs": []
    },
    {
      "cell_type": "markdown",
      "source": [
        "17. Create a class Book with attributes title, author, and year_published. Add a method get_book_info() that returns a formatted string with the book's details."
      ],
      "metadata": {
        "id": "hsQwxVF9p8O5"
      }
    },
    {
      "cell_type": "code",
      "source": [
        "class Book:\n",
        "    def __init__(self, title, author, year_published):\n",
        "        self.title = title\n",
        "        self.author = author\n",
        "        self.year_published = year_published\n",
        "\n",
        "    def get_book_info(self):\n",
        "        return f\"'{self.title}' by {self.author}, published in {self.year_published}\""
      ],
      "metadata": {
        "id": "V9vZTExWqAiS"
      },
      "execution_count": null,
      "outputs": []
    },
    {
      "cell_type": "markdown",
      "source": [
        "18. Create a class House with attributes address and price. Create a derived class Mansion that adds an attribute number_of_rooms."
      ],
      "metadata": {
        "id": "jPowG28FqJFe"
      }
    },
    {
      "cell_type": "code",
      "source": [
        "# Base class\n",
        "class House:\n",
        "    def __init__(self, address, price):\n",
        "        self.address = address\n",
        "        self.price = price\n",
        "\n",
        "# Derived class\n",
        "class Mansion(House):\n",
        "    def __init__(self, address, price, number_of_rooms):\n",
        "        super().__init__(address, price)\n",
        "        self.number_of_rooms = number_of_rooms\n",
        "\n",
        "    def show_info(self):\n",
        "        return f\"Mansion at {self.address}, Price: ${self.price}, Rooms: {self.number_of_rooms}\""
      ],
      "metadata": {
        "id": "L-NLsPc6qMmK"
      },
      "execution_count": null,
      "outputs": []
    }
  ]
}